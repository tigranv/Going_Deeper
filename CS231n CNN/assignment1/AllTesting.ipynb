{
 "cells": [
  {
   "cell_type": "code",
   "execution_count": 1,
   "metadata": {},
   "outputs": [],
   "source": [
    "import numpy as np"
   ]
  },
  {
   "cell_type": "code",
   "execution_count": 3,
   "metadata": {},
   "outputs": [],
   "source": [
    "a = np.array([[2, 3, 4], [1, 2, 5], [5, 4, 8]])\n",
    "b = np.array([[2, 2, 8], [4, 3, 2]])"
   ]
  },
  {
   "cell_type": "code",
   "execution_count": 16,
   "metadata": {},
   "outputs": [
    {
     "name": "stdout",
     "output_type": "stream",
     "text": [
      "(3, 3)\n"
     ]
    },
    {
     "data": {
      "text/plain": [
       "array([[2, 3, 4],\n",
       "       [1, 2, 5],\n",
       "       [5, 4, 8]])"
      ]
     },
     "execution_count": 16,
     "metadata": {},
     "output_type": "execute_result"
    }
   ],
   "source": [
    "print(a.shape)\n",
    "a"
   ]
  },
  {
   "cell_type": "code",
   "execution_count": 17,
   "metadata": {},
   "outputs": [
    {
     "name": "stdout",
     "output_type": "stream",
     "text": [
      "(2, 3)\n"
     ]
    },
    {
     "data": {
      "text/plain": [
       "array([[2, 2, 8],\n",
       "       [4, 3, 2]])"
      ]
     },
     "execution_count": 17,
     "metadata": {},
     "output_type": "execute_result"
    }
   ],
   "source": [
    "print(b.shape)\n",
    "b"
   ]
  },
  {
   "cell_type": "code",
   "execution_count": 33,
   "metadata": {},
   "outputs": [
    {
     "data": {
      "text/plain": [
       "array([[17., 10., 13.],\n",
       "       [ 8., 19., 38.]])"
      ]
     },
     "execution_count": 33,
     "metadata": {},
     "output_type": "execute_result"
    }
   ],
   "source": [
    "c = np.zeros((b.shape[0], a.shape[0]))\n",
    "\n",
    "for i in range(len(b)):\n",
    "    for j in range(len(a)):\n",
    "        c[i, j] = np.sum((a[j, :] - b[i, :])**2)\n",
    "c        "
   ]
  },
  {
   "cell_type": "code",
   "execution_count": 34,
   "metadata": {},
   "outputs": [
    {
     "data": {
      "text/plain": [
       "array([[17., 10., 13.],\n",
       "       [ 8., 19., 38.]])"
      ]
     },
     "execution_count": 34,
     "metadata": {},
     "output_type": "execute_result"
    }
   ],
   "source": [
    "d = np.zeros((b.shape[0], a.shape[0]))\n",
    "\n",
    "for i in range(len(b)):\n",
    "    d[i, ] = np.sum((a - b[i, :])**2, axis = 1)\n",
    "    \n",
    "d"
   ]
  },
  {
   "cell_type": "code",
   "execution_count": 35,
   "metadata": {},
   "outputs": [
    {
     "data": {
      "text/plain": [
       "array([[17, 10, 13],\n",
       "       [ 8, 19, 38]])"
      ]
     },
     "execution_count": 35,
     "metadata": {},
     "output_type": "execute_result"
    }
   ],
   "source": [
    "dists = -2 * np.dot(b, a.T) + np.sum(a**2,    axis=1) + np.sum(b**2, axis=1)[:, np.newaxis]\n",
    "dists"
   ]
  },
  {
   "cell_type": "code",
   "execution_count": 38,
   "metadata": {},
   "outputs": [
    {
     "name": "stdout",
     "output_type": "stream",
     "text": [
      "(6,)\n",
      "(6, 3)\n",
      "(3,)\n",
      "(3, 3)\n"
     ]
    }
   ],
   "source": [
    "X_train = np.array([[2, 3, 4], [1, 2, 5], [5, 4, 8], [2, 3, 4], [1, 2, 5], [5, 4, 8], [2, 3, 4], [1, 2, 5], [5, 4, 8]])\n",
    "y_train = np.array(range(9))\n",
    "num_folds = 3\n",
    "k_choices = [1, 3, 5, 8, 10, 12, 15, 20, 50, 100]\n",
    "X_train_folds = []\n",
    "y_train_folds = []\n",
    "X_train_folds = np.array_split(X_train, num_folds)\n",
    "y_train_folds = np.array_split(y_train, num_folds)\n",
    "\n",
    "\n",
    "\n",
    "for i_fold in range(num_folds):\n",
    "    y_train_list = [x for i, x in enumerate(y_train_folds) if i != i_fold]\n",
    "    X_train_list = [x for i, x in enumerate(X_train_folds) if i != i_fold]\n",
    "    y_train = np.concatenate(y_train_list)\n",
    "    X_train = np.concatenate(X_train_list)\n",
    "    y_test = y_train_folds[i_fold]\n",
    "    X_test = X_train_folds[i_fold]\n",
    "    classifier.train(X_train, y_train)\n",
    "    dists = classifier.compute_distances_no_loops(X_test)\n",
    "    for k in k_choices:\n",
    "        y_test_pred = classifier.predict_labels(dists, k = k)\n",
    "        num_correct = np.sum(y_test_pred == y_test)\n",
    "        accuracy = float(num_correct) / num_test\n",
    "        if k in k_to_accuracies:\n",
    "            k_to_accuracies[k].append(accuracy)\n",
    "        else:\n",
    "            k_to_accuracies[k] = [accuracy]\n",
    "\n",
    "print(y_train.shape)\n",
    "print(X_train.shape)\n",
    "print(y_test.shape)\n",
    "print(X_test.shape)"
   ]
  },
  {
   "cell_type": "code",
   "execution_count": 39,
   "metadata": {},
   "outputs": [
    {
     "data": {
      "text/plain": [
       "array([0, 1, 2, 3, 4, 5])"
      ]
     },
     "execution_count": 39,
     "metadata": {},
     "output_type": "execute_result"
    }
   ],
   "source": [
    "y_train"
   ]
  },
  {
   "cell_type": "code",
   "execution_count": 40,
   "metadata": {},
   "outputs": [
    {
     "data": {
      "text/plain": [
       "array([[2, 3, 4],\n",
       "       [1, 2, 5],\n",
       "       [5, 4, 8],\n",
       "       [2, 3, 4],\n",
       "       [1, 2, 5],\n",
       "       [5, 4, 8]])"
      ]
     },
     "execution_count": 40,
     "metadata": {},
     "output_type": "execute_result"
    }
   ],
   "source": [
    "X_train"
   ]
  },
  {
   "cell_type": "code",
   "execution_count": 41,
   "metadata": {},
   "outputs": [
    {
     "data": {
      "text/plain": [
       "array([6, 7, 8])"
      ]
     },
     "execution_count": 41,
     "metadata": {},
     "output_type": "execute_result"
    }
   ],
   "source": [
    "y_test"
   ]
  },
  {
   "cell_type": "code",
   "execution_count": 42,
   "metadata": {},
   "outputs": [
    {
     "data": {
      "text/plain": [
       "array([[2, 3, 4],\n",
       "       [1, 2, 5],\n",
       "       [5, 4, 8]])"
      ]
     },
     "execution_count": 42,
     "metadata": {},
     "output_type": "execute_result"
    }
   ],
   "source": [
    "X_test"
   ]
  },
  {
   "cell_type": "code",
   "execution_count": null,
   "metadata": {},
   "outputs": [],
   "source": [
    "for i_fold in range(num_folds):\n",
    "\n",
    "    y_train = np.concatenate(y_train_list)\n",
    "    X_train = np.concatenate(X_train_folds[])\n",
    "    y_test = y_train_folds[i_fold]\n",
    "    X_test = X_train_folds[i_fold]"
   ]
  },
  {
   "cell_type": "code",
   "execution_count": 44,
   "metadata": {},
   "outputs": [],
   "source": [
    "dic = {\"a\" : 5, \"b\": 8}"
   ]
  },
  {
   "cell_type": "code",
   "execution_count": 49,
   "metadata": {},
   "outputs": [
    {
     "data": {
      "text/plain": [
       "dict_keys(['a', 'b'])"
      ]
     },
     "execution_count": 49,
     "metadata": {},
     "output_type": "execute_result"
    }
   ],
   "source": [
    "d = dic.keys()\n",
    "d"
   ]
  },
  {
   "cell_type": "code",
   "execution_count": 51,
   "metadata": {},
   "outputs": [
    {
     "data": {
      "text/plain": [
       "['a', 'b']"
      ]
     },
     "execution_count": 51,
     "metadata": {},
     "output_type": "execute_result"
    }
   ],
   "source": [
    "list(d)"
   ]
  },
  {
   "cell_type": "code",
   "execution_count": 52,
   "metadata": {},
   "outputs": [
    {
     "data": {
      "text/plain": [
       "dict_keys"
      ]
     },
     "execution_count": 52,
     "metadata": {},
     "output_type": "execute_result"
    }
   ],
   "source": [
    "type(d)"
   ]
  },
  {
   "cell_type": "code",
   "execution_count": null,
   "metadata": {},
   "outputs": [],
   "source": []
  }
 ],
 "metadata": {
  "kernelspec": {
   "display_name": "Python 3",
   "language": "python",
   "name": "python3"
  },
  "language_info": {
   "codemirror_mode": {
    "name": "ipython",
    "version": 3
   },
   "file_extension": ".py",
   "mimetype": "text/x-python",
   "name": "python",
   "nbconvert_exporter": "python",
   "pygments_lexer": "ipython3",
   "version": "3.6.5"
  }
 },
 "nbformat": 4,
 "nbformat_minor": 2
}
