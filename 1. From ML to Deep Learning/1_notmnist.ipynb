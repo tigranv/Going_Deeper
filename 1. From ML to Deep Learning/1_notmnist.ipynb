{
 "cells": [
  {
   "cell_type": "markdown",
   "metadata": {
    "colab_type": "text",
    "id": "5hIbr52I7Z7U"
   },
   "source": [
    "Deep Learning\n",
    "=============\n",
    "\n",
    "Assignment 1\n",
    "------------\n",
    "\n",
    "The objective of this assignment is to learn about simple data curation practices, and familiarize you with some of the data we'll be reusing later.\n",
    "\n",
    "This notebook uses the [notMNIST](http://yaroslavvb.blogspot.com/2011/09/notmnist-dataset.html) dataset to be used with python experiments. This dataset is designed to look like the classic [MNIST](http://yann.lecun.com/exdb/mnist/) dataset, while looking a little more like real data: it's a harder task, and the data is a lot less 'clean' than MNIST."
   ]
  },
  {
   "cell_type": "code",
   "execution_count": 1,
   "metadata": {
    "cellView": "both",
    "colab": {
     "autoexec": {
      "startup": false,
      "wait_interval": 0
     }
    },
    "colab_type": "code",
    "id": "apJbCsBHl-2A"
   },
   "outputs": [],
   "source": [
    "# These are all the modules we'll be using later. Make sure you can import them\n",
    "# before proceeding further.\n",
    "from __future__ import print_function\n",
    "import imageio\n",
    "import matplotlib.pyplot as plt\n",
    "import numpy as np\n",
    "import os\n",
    "import sys\n",
    "import tarfile\n",
    "import time\n",
    "from IPython.display import display, Image\n",
    "from sklearn.linear_model import LogisticRegression\n",
    "from sklearn.linear_model import LogisticRegressionCV\n",
    "from sklearn.model_selection import cross_val_score\n",
    "from six.moves.urllib.request import urlretrieve\n",
    "from six.moves import cPickle as pickle\n",
    "\n",
    "# Config the matplotlib backend as plotting inline in IPython\n",
    "%matplotlib inline"
   ]
  },
  {
   "cell_type": "markdown",
   "metadata": {
    "colab_type": "text",
    "id": "jNWGtZaXn-5j"
   },
   "source": [
    "First, we'll download the dataset to our local machine. The data consists of characters rendered in a variety of fonts on a 28x28 image. The labels are limited to 'A' through 'J' (10 classes). The training set has about 500k and the testset 19000 labeled examples. Given these sizes, it should be possible to train models quickly on any machine."
   ]
  },
  {
   "cell_type": "code",
   "execution_count": 2,
   "metadata": {
    "cellView": "both",
    "colab": {
     "autoexec": {
      "startup": false,
      "wait_interval": 0
     },
     "output_extras": [
      {
       "item_id": 1
      }
     ]
    },
    "colab_type": "code",
    "executionInfo": {
     "elapsed": 186058,
     "status": "ok",
     "timestamp": 1444485672507,
     "user": {
      "color": "#1FA15D",
      "displayName": "Vincent Vanhoucke",
      "isAnonymous": false,
      "isMe": true,
      "permissionId": "05076109866853157986",
      "photoUrl": "//lh6.googleusercontent.com/-cCJa7dTDcgQ/AAAAAAAAAAI/AAAAAAAACgw/r2EZ_8oYer4/s50-c-k-no/photo.jpg",
      "sessionId": "2a0a5e044bb03b66",
      "userId": "102167687554210253930"
     },
     "user_tz": 420
    },
    "id": "EYRJ4ICW6-da",
    "outputId": "0d0f85df-155f-4a89-8e7e-ee32df36ec8d"
   },
   "outputs": [
    {
     "name": "stdout",
     "output_type": "stream",
     "text": [
      "Found and verified all_data/notMNIST_large.tar.gz\n",
      "Found and verified all_data/notMNIST_small.tar.gz\n"
     ]
    }
   ],
   "source": [
    "url = 'https://commondatastorage.googleapis.com/books1000/'\n",
    "last_percent_reported = None\n",
    "data_root = 'all_data/' # Change me to store data elsewhere\n",
    "\n",
    "def download_progress_hook(count, blockSize, totalSize):\n",
    "  \"\"\"A hook to report the progress of a download. This is mostly intended for users with\n",
    "  slow internet connections. Reports every 5% change in download progress.\n",
    "  \"\"\"\n",
    "  global last_percent_reported\n",
    "  percent = int(count * blockSize * 100 / totalSize)\n",
    "\n",
    "  if last_percent_reported != percent:\n",
    "    if percent % 5 == 0:\n",
    "      sys.stdout.write(\"%s%%\" % percent)\n",
    "      sys.stdout.flush()\n",
    "    else:\n",
    "      sys.stdout.write(\".\")\n",
    "      sys.stdout.flush()\n",
    "      \n",
    "    last_percent_reported = percent\n",
    "        \n",
    "def maybe_download(filename, expected_bytes, force=False):\n",
    "  \"\"\"Download a file if not present, and make sure it's the right size.\"\"\"\n",
    "  dest_filename = os.path.join(data_root, filename)\n",
    "  if force or not os.path.exists(dest_filename):\n",
    "    print('Attempting to download:', filename) \n",
    "    filename, _ = urlretrieve(url + filename, dest_filename, reporthook=download_progress_hook)\n",
    "    print('\\nDownload Complete!')\n",
    "  statinfo = os.stat(dest_filename)\n",
    "  if statinfo.st_size == expected_bytes:\n",
    "    print('Found and verified', dest_filename)\n",
    "  else:\n",
    "    raise Exception(\n",
    "      'Failed to verify ' + dest_filename + '. Can you get to it with a browser?')\n",
    "  return dest_filename\n",
    "\n",
    "train_filename = maybe_download('notMNIST_large.tar.gz', 247336696)\n",
    "test_filename = maybe_download('notMNIST_small.tar.gz', 8458043)"
   ]
  },
  {
   "cell_type": "markdown",
   "metadata": {
    "colab_type": "text",
    "id": "cC3p0oEyF8QT"
   },
   "source": [
    "Extract the dataset from the compressed .tar.gz file.\n",
    "This should give you a set of directories, labeled A through J."
   ]
  },
  {
   "cell_type": "code",
   "execution_count": 3,
   "metadata": {
    "cellView": "both",
    "colab": {
     "autoexec": {
      "startup": false,
      "wait_interval": 0
     },
     "output_extras": [
      {
       "item_id": 1
      }
     ]
    },
    "colab_type": "code",
    "executionInfo": {
     "elapsed": 186055,
     "status": "ok",
     "timestamp": 1444485672525,
     "user": {
      "color": "#1FA15D",
      "displayName": "Vincent Vanhoucke",
      "isAnonymous": false,
      "isMe": true,
      "permissionId": "05076109866853157986",
      "photoUrl": "//lh6.googleusercontent.com/-cCJa7dTDcgQ/AAAAAAAAAAI/AAAAAAAACgw/r2EZ_8oYer4/s50-c-k-no/photo.jpg",
      "sessionId": "2a0a5e044bb03b66",
      "userId": "102167687554210253930"
     },
     "user_tz": 420
    },
    "id": "H8CBE-WZ8nmj",
    "outputId": "ef6c790c-2513-4b09-962e-27c79390c762"
   },
   "outputs": [
    {
     "name": "stdout",
     "output_type": "stream",
     "text": [
      "all_data/notMNIST_large already present - Skipping extraction of all_data/notMNIST_large.tar.gz.\n",
      "['all_data/notMNIST_large\\\\A', 'all_data/notMNIST_large\\\\B', 'all_data/notMNIST_large\\\\C', 'all_data/notMNIST_large\\\\D', 'all_data/notMNIST_large\\\\E', 'all_data/notMNIST_large\\\\F', 'all_data/notMNIST_large\\\\G', 'all_data/notMNIST_large\\\\H', 'all_data/notMNIST_large\\\\I', 'all_data/notMNIST_large\\\\J']\n",
      "all_data/notMNIST_small already present - Skipping extraction of all_data/notMNIST_small.tar.gz.\n",
      "['all_data/notMNIST_small\\\\A', 'all_data/notMNIST_small\\\\B', 'all_data/notMNIST_small\\\\C', 'all_data/notMNIST_small\\\\D', 'all_data/notMNIST_small\\\\E', 'all_data/notMNIST_small\\\\F', 'all_data/notMNIST_small\\\\G', 'all_data/notMNIST_small\\\\H', 'all_data/notMNIST_small\\\\I', 'all_data/notMNIST_small\\\\J']\n"
     ]
    }
   ],
   "source": [
    "num_classes = 10\n",
    "np.random.seed(133)\n",
    "\n",
    "train_filename = data_root + 'notMNIST_large.tar.gz'\n",
    "\n",
    "test_filename = data_root + 'notMNIST_small.tar.gz'\n",
    "\n",
    "def maybe_extract(filename, force=False):\n",
    "  root = os.path.splitext(os.path.splitext(filename)[0])[0]  # remove .tar.gz\n",
    "  if os.path.isdir(root) and not force:\n",
    "    # You may override by setting force=True.\n",
    "    print('%s already present - Skipping extraction of %s.' % (root, filename))\n",
    "  else:\n",
    "    print('Extracting data for %s. This may take a while. Please wait.' % root)\n",
    "    tar = tarfile.open(filename)\n",
    "    sys.stdout.flush()\n",
    "    tar.extractall(data_root)\n",
    "    tar.close()\n",
    "  data_folders = [\n",
    "    os.path.join(root, d) for d in sorted(os.listdir(root))\n",
    "    if os.path.isdir(os.path.join(root, d))]\n",
    "  if len(data_folders) != num_classes:\n",
    "    raise Exception(\n",
    "      'Expected %d folders, one per class. Found %d instead.' % (\n",
    "        num_classes, len(data_folders)))\n",
    "  print(data_folders)\n",
    "  return data_folders\n",
    "  \n",
    "train_folders = maybe_extract(train_filename)\n",
    "test_folders = maybe_extract(test_filename)"
   ]
  },
  {
   "cell_type": "markdown",
   "metadata": {
    "colab_type": "text",
    "id": "4riXK3IoHgx6"
   },
   "source": [
    "---\n",
    "Problem 1\n",
    "---------\n",
    "\n",
    "Let's take a peek at some of the data to make sure it looks sensible. Each exemplar should be an image of a character A through J rendered in a different font. Display a sample of the images that we just downloaded. Hint: you can use the package IPython.display.\n",
    "\n",
    "---"
   ]
  },
  {
   "cell_type": "code",
   "execution_count": 6,
   "metadata": {},
   "outputs": [],
   "source": [
    "from IPython.display import display, Image"
   ]
  },
  {
   "cell_type": "code",
   "execution_count": 4,
   "metadata": {
    "scrolled": true
   },
   "outputs": [
    {
     "name": "stdout",
     "output_type": "stream",
     "text": [
      "['MDEtMDEtMDAudHRm.png', 'MDRiXzA4LnR0Zg==.png', 'MjAwcHJvb2Ztb29uc2hpbmUgcmVtaXgudHRm.png', 'MlJlYmVsc0RldXgtQmxhY2sub3Rm.png', 'MlRvb24gU2hhZG93LnR0Zg==.png']\n"
     ]
    },
    {
     "data": {
      "image/png": "[encoded data removed]",
      "text/plain": [
       "<IPython.core.display.Image object>"
      ]
     },
     "metadata": {},
     "output_type": "display_data"
    },
    {
     "data": {
      "image/png": "[encoded data removed]",
      "text/plain": [
       "<IPython.core.display.Image object>"
      ]
     },
     "metadata": {},
     "output_type": "display_data"
    },
    {
     "data": {
      "image/png": "[encoded data removed]",
      "text/plain": [
       "<IPython.core.display.Image object>"
      ]
     },
     "metadata": {},
     "output_type": "display_data"
    },
    {
     "data": {
      "image/png": "[encoded data removed]",
      "text/plain": [
       "<IPython.core.display.Image object>"
      ]
     },
     "metadata": {},
     "output_type": "display_data"
    },
    {
     "data": {
      "image/png": "[encoded data removed]",
      "text/plain": [
       "<IPython.core.display.Image object>"
      ]
     },
     "metadata": {},
     "output_type": "display_data"
    }
   ],
   "source": [
    "# display(Image(filename=data_root + \"notMNIST_small/A/Q0NXaWxkV29yZHMtQm9sZEl0YWxpYy50dGY=.png\"))\n",
    "image_list = os.listdir(test_folders[0])[:5]\n",
    "print(image_list)\n",
    "for img in image_list:\n",
    "    im_path = os.path.join(test_folders[0], img)\n",
    "    display(Image(filename=im_path))\n"
   ]
  },
  {
   "cell_type": "code",
   "execution_count": 6,
   "metadata": {},
   "outputs": [],
   "source": [
    "# image_files = os.listdir(test_folders[0])\n",
    "# print(test_folders[0])\n",
    "# dataset = np.ndarray(shape=(len(image_files), image_size, image_size), dtype=np.float32)\n",
    "# print(dataset.shape)\n",
    "# for image in image_files:\n",
    "#         image_file = os.path.join(test_folders[0], image)\n",
    "#         image_data = (imageio.imread(image_file).astype(float) - pixel_depth / 2) / pixel_depth\n",
    "#         print(image_data.shape)\n",
    "#         dataset[0, :, :] = image_data\n",
    "#         break\n",
    "# dataset[0].shape"
   ]
  },
  {
   "cell_type": "markdown",
   "metadata": {
    "colab_type": "text",
    "id": "PBdkjESPK8tw"
   },
   "source": [
    "Now let's load the data in a more manageable format. Since, depending on your computer setup you might not be able to fit it all in memory, we'll load each class into a separate dataset, store them on disk and curate them independently. Later we'll merge them into a single dataset of manageable size.\n",
    "\n",
    "We'll convert the entire dataset into a 3D array (image index, x, y) of floating point values, normalized to have approximately zero mean and standard deviation ~0.5 to make training easier down the road. \n",
    "\n",
    "A few images might not be readable, we'll just skip them."
   ]
  },
  {
   "cell_type": "code",
   "execution_count": 7,
   "metadata": {
    "cellView": "both",
    "colab": {
     "autoexec": {
      "startup": false,
      "wait_interval": 0
     },
     "output_extras": [
      {
       "item_id": 30
      }
     ]
    },
    "colab_type": "code",
    "executionInfo": {
     "elapsed": 399874,
     "status": "ok",
     "timestamp": 1444485886378,
     "user": {
      "color": "#1FA15D",
      "displayName": "Vincent Vanhoucke",
      "isAnonymous": false,
      "isMe": true,
      "permissionId": "05076109866853157986",
      "photoUrl": "//lh6.googleusercontent.com/-cCJa7dTDcgQ/AAAAAAAAAAI/AAAAAAAACgw/r2EZ_8oYer4/s50-c-k-no/photo.jpg",
      "sessionId": "2a0a5e044bb03b66",
      "userId": "102167687554210253930"
     },
     "user_tz": 420
    },
    "id": "h7q0XhG3MJdf",
    "outputId": "92c391bb-86ff-431d-9ada-315568a19e59"
   },
   "outputs": [
    {
     "name": "stdout",
     "output_type": "stream",
     "text": [
      "all_data/notMNIST_large\\A.pickle already present - Skipping pickling.\n",
      "all_data/notMNIST_large\\B.pickle already present - Skipping pickling.\n",
      "all_data/notMNIST_large\\C.pickle already present - Skipping pickling.\n",
      "all_data/notMNIST_large\\D.pickle already present - Skipping pickling.\n",
      "all_data/notMNIST_large\\E.pickle already present - Skipping pickling.\n",
      "all_data/notMNIST_large\\F.pickle already present - Skipping pickling.\n",
      "all_data/notMNIST_large\\G.pickle already present - Skipping pickling.\n",
      "all_data/notMNIST_large\\H.pickle already present - Skipping pickling.\n",
      "all_data/notMNIST_large\\I.pickle already present - Skipping pickling.\n",
      "all_data/notMNIST_large\\J.pickle already present - Skipping pickling.\n",
      "all_data/notMNIST_small\\A.pickle already present - Skipping pickling.\n",
      "all_data/notMNIST_small\\B.pickle already present - Skipping pickling.\n",
      "all_data/notMNIST_small\\C.pickle already present - Skipping pickling.\n",
      "all_data/notMNIST_small\\D.pickle already present - Skipping pickling.\n",
      "all_data/notMNIST_small\\E.pickle already present - Skipping pickling.\n",
      "all_data/notMNIST_small\\F.pickle already present - Skipping pickling.\n",
      "all_data/notMNIST_small\\G.pickle already present - Skipping pickling.\n",
      "all_data/notMNIST_small\\H.pickle already present - Skipping pickling.\n",
      "all_data/notMNIST_small\\I.pickle already present - Skipping pickling.\n",
      "all_data/notMNIST_small\\J.pickle already present - Skipping pickling.\n"
     ]
    }
   ],
   "source": [
    "image_size = 28  # Pixel width and height.\n",
    "pixel_depth = 255.0  # Number of levels per pixel.\n",
    "\n",
    "def load_letter(folder, min_num_images):\n",
    "    \"\"\"Load the data for a single letter label.\"\"\"\n",
    "    image_files = os.listdir(folder)\n",
    "    dataset = np.ndarray(shape=(len(image_files), image_size, image_size), dtype=np.float32)\n",
    "    print(folder)\n",
    "    num_images = 0\n",
    "    for image in image_files:\n",
    "        image_file = os.path.join(folder, image)\n",
    "        try:\n",
    "            image_data = (imageio.imread(image_file).astype(float) - pixel_depth / 2) / pixel_depth\n",
    "            if image_data.shape != (image_size, image_size):\n",
    "                raise Exception('Unexpected image shape: %s' % str(image_data.shape))\n",
    "            dataset[num_images, :, :] = image_data\n",
    "            num_images = num_images + 1\n",
    "        except (IOError, ValueError) as e:\n",
    "            print('Could not read:', image_file, ':', e, '- it\\'s ok, skipping.')\n",
    "    \n",
    "    dataset = dataset[0:num_images, :, :]\n",
    "    if num_images < min_num_images:\n",
    "        raise Exception('Many fewer images than expected: %d < %d' %(num_images, min_num_images))\n",
    "    \n",
    "    print('Full dataset tensor:', dataset.shape)\n",
    "    print('Mean:', np.mean(dataset))\n",
    "    print('Standard deviation:', np.std(dataset))\n",
    "    return dataset\n",
    "        \n",
    "def maybe_pickle(data_folders, min_num_images_per_class, force=False):\n",
    "    dataset_names = []\n",
    "    for folder in data_folders:\n",
    "        set_filename = folder + '.pickle'\n",
    "        dataset_names.append(set_filename)\n",
    "        if os.path.exists(set_filename) and not force:\n",
    "          # You may override by setting force=True.\n",
    "          print('%s already present - Skipping pickling.' % set_filename)\n",
    "        else:\n",
    "            print('Pickling {0}.'.format(set_filename))\n",
    "            dataset = load_letter(folder, min_num_images_per_class)\n",
    "            try:\n",
    "                with open(set_filename, 'wb') as f:\n",
    "                    pickle.dump(dataset, f, pickle.HIGHEST_PROTOCOL)\n",
    "            except Exception as e:\n",
    "                print('Unable to save data to', set_filename, ':', e)\n",
    "  \n",
    "    return dataset_names\n",
    "\n",
    "train_datasets = maybe_pickle(train_folders, 45000)\n",
    "test_datasets = maybe_pickle(test_folders, 1800)"
   ]
  },
  {
   "cell_type": "markdown",
   "metadata": {
    "colab_type": "text",
    "id": "vUdbskYE2d87"
   },
   "source": [
    "---\n",
    "Problem 2\n",
    "---------\n",
    "\n",
    "Let's verify that the data still looks good. Displaying a sample of the labels and images from the ndarray. Hint: you can use matplotlib.pyplot.\n",
    "\n",
    "---"
   ]
  },
  {
   "cell_type": "code",
   "execution_count": 9,
   "metadata": {},
   "outputs": [
    {
     "data": {
      "image/png": "[encoded data removed]",
      "text/plain": [
       "<Figure size 432x288 with 1 Axes>"
      ]
     },
     "metadata": {},
     "output_type": "display_data"
    },
    {
     "data": {
      "image/png": "[encoded data removed]",
      "text/plain": [
       "<Figure size 432x288 with 1 Axes>"
      ]
     },
     "metadata": {},
     "output_type": "display_data"
    },
    {
     "data": {
      "image/png": "[encoded data removed]",
      "text/plain": [
       "<Figure size 432x288 with 1 Axes>"
      ]
     },
     "metadata": {},
     "output_type": "display_data"
    }
   ],
   "source": [
    "for i in range(3):    \n",
    "    pickle_file = train_datasets[np.random.randint(10)]  # index 0 should be all As, 1 = all Bs, etc.\n",
    "    with open(pickle_file, 'rb') as f:\n",
    "        letter_set = pickle.load(f)  # unpickle\n",
    "        sample_idx = np.random.randint(len(letter_set))  # pick a random image index\n",
    "        sample_image = letter_set[sample_idx, :, :]  # extract a 2D slice\n",
    "        plt.figure()\n",
    "        plt.imshow(sample_image)  # display it\n"
   ]
  },
  {
   "cell_type": "markdown",
   "metadata": {
    "colab_type": "text",
    "id": "cYznx5jUwzoO"
   },
   "source": [
    "---\n",
    "Problem 3\n",
    "---------\n",
    "Another check: we expect the data to be balanced across classes. Verify that.\n",
    "\n",
    "---"
   ]
  },
  {
   "cell_type": "code",
   "execution_count": 10,
   "metadata": {},
   "outputs": [
    {
     "name": "stdout",
     "output_type": "stream",
     "text": [
      "Train\n",
      "Num of A is 52909\n",
      "Num of B is 52911\n",
      "Num of c is 52912\n",
      "Num of D is 52911\n",
      "Num of E is 52912\n",
      "Num of F is 52912\n",
      "Num of G is 52912\n",
      "Num of H is 52912\n",
      "Num of I is 52912\n",
      "Num of J is 52911\n",
      "Test\n",
      "Num of A is 1872\n",
      "Num of B is 1873\n",
      "Num of c is 1873\n",
      "Num of D is 1873\n",
      "Num of E is 1873\n",
      "Num of F is 1872\n",
      "Num of G is 1872\n",
      "Num of H is 1872\n",
      "Num of I is 1872\n",
      "Num of J is 1872\n"
     ]
    }
   ],
   "source": [
    "lables_list = ['A', 'B', 'c', 'D', 'E', 'F', 'G', 'H', 'I', 'J']\n",
    "\n",
    "print(\"Train\")\n",
    "for i in range(10):    \n",
    "    pickle_file = train_datasets[i]  # index 0 should be all As, 1 = all Bs, etc.\n",
    "    with open(pickle_file, 'rb') as f:\n",
    "        letter_set = pickle.load(f)  # unpickle\n",
    "        print(\"Num of {0} is {1}\".format(lables_list[i], len(letter_set)))\n",
    "        \n",
    "print(\"Test\")        \n",
    "for i in range(10):    \n",
    "    pickle_file = test_datasets[i]  # index 0 should be all As, 1 = all Bs, etc.\n",
    "    with open(pickle_file, 'rb') as f:\n",
    "        letter_set = pickle.load(f)  # unpickle\n",
    "        print(\"Num of {0} is {1}\".format(lables_list[i], len(letter_set)))\n",
    "        "
   ]
  },
  {
   "cell_type": "markdown",
   "metadata": {
    "colab_type": "text",
    "id": "LA7M7K22ynCt"
   },
   "source": [
    "Merge and prune the training data as needed. Depending on your computer setup, you might not be able to fit it all in memory, and you can tune `train_size` as needed. The labels will be stored into a separate array of integers 0 through 9.\n",
    "\n",
    "Also create a validation dataset for hyperparameter tuning."
   ]
  },
  {
   "cell_type": "code",
   "execution_count": 11,
   "metadata": {
    "cellView": "both",
    "colab": {
     "autoexec": {
      "startup": false,
      "wait_interval": 0
     },
     "output_extras": [
      {
       "item_id": 1
      }
     ]
    },
    "colab_type": "code",
    "executionInfo": {
     "elapsed": 411281,
     "status": "ok",
     "timestamp": 1444485897869,
     "user": {
      "color": "#1FA15D",
      "displayName": "Vincent Vanhoucke",
      "isAnonymous": false,
      "isMe": true,
      "permissionId": "05076109866853157986",
      "photoUrl": "//lh6.googleusercontent.com/-cCJa7dTDcgQ/AAAAAAAAAAI/AAAAAAAACgw/r2EZ_8oYer4/s50-c-k-no/photo.jpg",
      "sessionId": "2a0a5e044bb03b66",
      "userId": "102167687554210253930"
     },
     "user_tz": 420
    },
    "id": "s3mWgZLpyuzq",
    "outputId": "8af66da6-902d-4719-bedc-7c9fb7ae7948"
   },
   "outputs": [
    {
     "name": "stdout",
     "output_type": "stream",
     "text": [
      "Training: (200000, 28, 28) (200000,)\n",
      "Validation: (10000, 28, 28) (10000,)\n",
      "Testing: (10000, 28, 28) (10000,)\n"
     ]
    }
   ],
   "source": [
    "def make_arrays(nb_rows, img_size):\n",
    "    if nb_rows:\n",
    "        dataset = np.ndarray((nb_rows, img_size, img_size), dtype=np.float32)\n",
    "        labels = np.ndarray(nb_rows, dtype=np.int32)\n",
    "    else:\n",
    "        dataset, labels = None, None\n",
    "    return dataset, labels\n",
    "\n",
    "def merge_datasets(pickle_files, train_size, valid_size=0):\n",
    "    num_classes = len(pickle_files)\n",
    "    valid_dataset, valid_labels = make_arrays(valid_size, image_size)\n",
    "    train_dataset, train_labels = make_arrays(train_size, image_size)\n",
    "    vsize_per_class = valid_size // num_classes\n",
    "    tsize_per_class = train_size // num_classes\n",
    "\n",
    "    start_v, start_t = 0, 0\n",
    "    end_v, end_t = vsize_per_class, tsize_per_class\n",
    "    end_l = vsize_per_class+tsize_per_class\n",
    "    for label, pickle_file in enumerate(pickle_files):       \n",
    "        try:\n",
    "            with open(pickle_file, 'rb') as f:\n",
    "                letter_set = pickle.load(f)\n",
    "                # let's shuffle the letters to have random validation and training set\n",
    "                np.random.shuffle(letter_set)\n",
    "                if valid_dataset is not None:\n",
    "                    valid_letter = letter_set[:vsize_per_class, :, :]\n",
    "                    valid_dataset[start_v:end_v, :, :] = valid_letter\n",
    "                    valid_labels[start_v:end_v] = label\n",
    "                    start_v += vsize_per_class\n",
    "                    end_v += vsize_per_class\n",
    "\n",
    "                train_letter = letter_set[vsize_per_class:end_l, :, :]\n",
    "                train_dataset[start_t:end_t, :, :] = train_letter\n",
    "                train_labels[start_t:end_t] = label\n",
    "                start_t += tsize_per_class\n",
    "                end_t += tsize_per_class\n",
    "        except Exception as e:\n",
    "            print('Unable to process data from', pickle_file, ':', e)\n",
    "            raise\n",
    "    \n",
    "    return valid_dataset, valid_labels, train_dataset, train_labels\n",
    "            \n",
    "            \n",
    "train_size = 200000\n",
    "valid_size = 10000\n",
    "test_size = 10000\n",
    "\n",
    "valid_dataset, valid_labels, train_dataset, train_labels = merge_datasets(train_datasets, train_size, valid_size)\n",
    "_, _, test_dataset, test_labels = merge_datasets(test_datasets, test_size)\n",
    "\n",
    "print('Training:', train_dataset.shape, train_labels.shape)\n",
    "print('Validation:', valid_dataset.shape, valid_labels.shape)\n",
    "print('Testing:', test_dataset.shape, test_labels.shape)"
   ]
  },
  {
   "cell_type": "markdown",
   "metadata": {
    "colab_type": "text",
    "id": "GPTCnjIcyuKN"
   },
   "source": [
    "Next, we'll randomize the data. It's important to have the labels well shuffled for the training and test distributions to match."
   ]
  },
  {
   "cell_type": "code",
   "execution_count": 12,
   "metadata": {
    "cellView": "both",
    "colab": {
     "autoexec": {
      "startup": false,
      "wait_interval": 0
     }
    },
    "colab_type": "code",
    "id": "6WZ2l2tN2zOL"
   },
   "outputs": [],
   "source": [
    "def randomize(dataset, labels):\n",
    "    permutation = np.random.permutation(labels.shape[0])\n",
    "    shuffled_dataset = dataset[permutation,:,:]\n",
    "    shuffled_labels = labels[permutation]\n",
    "    return shuffled_dataset, shuffled_labels\n",
    "train_dataset, train_labels = randomize(train_dataset, train_labels)\n",
    "test_dataset, test_labels = randomize(test_dataset, test_labels)\n",
    "valid_dataset, valid_labels = randomize(valid_dataset, valid_labels)"
   ]
  },
  {
   "cell_type": "markdown",
   "metadata": {
    "colab_type": "text",
    "id": "puDUTe6t6USl"
   },
   "source": [
    "---\n",
    "Problem 4\n",
    "---------\n",
    "Convince yourself that the data is still good after shuffling!\n",
    "\n",
    "---"
   ]
  },
  {
   "cell_type": "code",
   "execution_count": 14,
   "metadata": {},
   "outputs": [],
   "source": [
    "# count = 1\n",
    "# for i, img in enumerate(train_dataset):\n",
    "#     plt.figure()\n",
    "#     plt.imshow(img)\n",
    "#     count+=1\n",
    "#     if count > 10:\n",
    "#         break"
   ]
  },
  {
   "cell_type": "markdown",
   "metadata": {
    "colab_type": "text",
    "id": "tIQJaJuwg5Hw"
   },
   "source": [
    "Finally, let's save the data for later reuse:"
   ]
  },
  {
   "cell_type": "code",
   "execution_count": 15,
   "metadata": {
    "cellView": "both",
    "colab": {
     "autoexec": {
      "startup": false,
      "wait_interval": 0
     }
    },
    "colab_type": "code",
    "id": "QiR_rETzem6C"
   },
   "outputs": [],
   "source": [
    "pickle_file = os.path.join(data_root, 'notMNIST.pickle')\n",
    "\n",
    "try:   \n",
    "    f = open(pickle_file, 'wb')\n",
    "    save = {\n",
    "            'train_dataset': train_dataset,\n",
    "            'train_labels': train_labels,\n",
    "            'valid_dataset': valid_dataset,\n",
    "            'valid_labels': valid_labels,\n",
    "            'test_dataset': test_dataset,\n",
    "            'test_labels': test_labels,\n",
    "            }\n",
    "    pickle.dump(save, f, pickle.HIGHEST_PROTOCOL)\n",
    "    f.close()\n",
    "except Exception as e:\n",
    "    print('Unable to save data to', pickle_file, ':', e)\n",
    "    raise"
   ]
  },
  {
   "cell_type": "code",
   "execution_count": 16,
   "metadata": {
    "cellView": "both",
    "colab": {
     "autoexec": {
      "startup": false,
      "wait_interval": 0
     },
     "output_extras": [
      {
       "item_id": 1
      }
     ]
    },
    "colab_type": "code",
    "executionInfo": {
     "elapsed": 413065,
     "status": "ok",
     "timestamp": 1444485899688,
     "user": {
      "color": "#1FA15D",
      "displayName": "Vincent Vanhoucke",
      "isAnonymous": false,
      "isMe": true,
      "permissionId": "05076109866853157986",
      "photoUrl": "//lh6.googleusercontent.com/-cCJa7dTDcgQ/AAAAAAAAAAI/AAAAAAAACgw/r2EZ_8oYer4/s50-c-k-no/photo.jpg",
      "sessionId": "2a0a5e044bb03b66",
      "userId": "102167687554210253930"
     },
     "user_tz": 420
    },
    "id": "hQbLjrW_iT39",
    "outputId": "b440efc6-5ee1-4cbc-d02d-93db44ebd956"
   },
   "outputs": [
    {
     "name": "stdout",
     "output_type": "stream",
     "text": [
      "Compressed pickle size: 690800506\n"
     ]
    }
   ],
   "source": [
    "statinfo = os.stat(pickle_file)\n",
    "print('Compressed pickle size:', statinfo.st_size)"
   ]
  },
  {
   "cell_type": "markdown",
   "metadata": {
    "colab_type": "text",
    "id": "gE_cRAQB33lk"
   },
   "source": [
    "---\n",
    "Problem 5\n",
    "---------\n",
    "\n",
    "By construction, this dataset might contain a lot of overlapping samples, including training data that's also contained in the validation and test set! Overlap between training and test can skew the results if you expect to use your model in an environment where there is never an overlap, but are actually ok if you expect to see training samples recur when you use it.\n",
    "Measure how much overlap there is between training, validation and test samples.\n",
    "\n",
    "Optional questions:\n",
    "- What about near duplicates between datasets? (images that are almost identical)\n",
    "- Create a sanitized validation and test set, and compare your accuracy on those in subsequent assignments.\n",
    "---"
   ]
  },
  {
   "cell_type": "code",
   "execution_count": 17,
   "metadata": {},
   "outputs": [
    {
     "name": "stdout",
     "output_type": "stream",
     "text": [
      "Examples in train dataset: 200.0 thousand\n",
      "Examples in valid dataset: 10.0 thousand\n",
      "Examples in test dataset: 10.0 thousand\n"
     ]
    }
   ],
   "source": [
    "dic_file = pickle.load(open(pickle_file, 'rb'))\n",
    "train_dataset = dic_file[\"train_dataset\"]\n",
    "train_labels = dic_file[\"train_labels\"]\n",
    "valid_dataset = dic_file[\"valid_dataset\"]\n",
    "valid_labels = dic_file[\"valid_labels\"]\n",
    "test_dataset = dic_file[\"test_dataset\"]\n",
    "test_labels = dic_file[\"test_labels\"]\n",
    "\n",
    "print(\"Examples in train dataset:\", len(train_labels) / float(1000), \"thousand\")\n",
    "print(\"Examples in valid dataset:\", len(valid_labels) / float(1000), \"thousand\")\n",
    "print(\"Examples in test dataset:\", len(test_labels) / float(1000), \"thousand\")"
   ]
  },
  {
   "cell_type": "markdown",
   "metadata": {},
   "source": [
    "##### Clean Datasets\n",
    "We will check for repetitions within each datasets first. And remove the duplicates."
   ]
  },
  {
   "cell_type": "code",
   "execution_count": 18,
   "metadata": {},
   "outputs": [
    {
     "name": "stdout",
     "output_type": "stream",
     "text": [
      "Comparisons to make for this class: 0.5 million\n",
      "\n",
      "The number of matches found in class 0 is 0\n",
      "Comparisons to make for this class: 0.5 million\n",
      "\n",
      "The number of matches found in class 1 is 0\n",
      "Comparisons to make for this class: 0.5 million\n",
      "\n",
      "The number of matches found in class 2 is 0\n",
      "Comparisons to make for this class: 0.5 million\n",
      "\n",
      "The number of matches found in class 3 is 0\n",
      "Comparisons to make for this class: 0.5 million\n",
      "\n",
      "The number of matches found in class 4 is 0\n",
      "Comparisons to make for this class: 0.5 million\n",
      "\n",
      "The number of matches found in class 5 is 0\n",
      "Comparisons to make for this class: 0.5 million\n",
      "\n",
      "The number of matches found in class 6 is 0\n",
      "Comparisons to make for this class: 0.5 million\n",
      "\n",
      "The number of matches found in class 7 is 0\n",
      "Comparisons to make for this class: 0.5 million\n",
      "\n",
      "The number of matches found in class 8 is 0\n",
      "Comparisons to make for this class: 0.5 million\n",
      "\n",
      "The number of matches found in class 9 is 0\n",
      "Total of matches: 0 from a sample size: 10000 \n",
      "\n",
      "\n",
      "Comparisons to make for this class: 0.5 million\n",
      "\n",
      "The number of matches found in class 0 is 0\n",
      "Comparisons to make for this class: 0.5 million\n",
      "\n",
      "The number of matches found in class 1 is 0\n",
      "Comparisons to make for this class: 0.5 million\n",
      "\n",
      "The number of matches found in class 2 is 0\n",
      "Comparisons to make for this class: 0.5 million\n",
      "\n",
      "The number of matches found in class 3 is 0\n",
      "Comparisons to make for this class: 0.5 million\n",
      "\n",
      "The number of matches found in class 4 is 0\n",
      "Comparisons to make for this class: 0.5 million\n",
      "\n",
      "The number of matches found in class 5 is 0\n",
      "Comparisons to make for this class: 0.5 million\n",
      "\n",
      "The number of matches found in class 6 is 0\n",
      "Comparisons to make for this class: 0.5 million\n",
      "\n",
      "The number of matches found in class 7 is 0\n",
      "Comparisons to make for this class: 0.5 million\n",
      "\n",
      "The number of matches found in class 8 is 0\n",
      "Comparisons to make for this class: 0.5 million\n",
      "\n",
      "The number of matches found in class 9 is 0\n",
      "Total of matches: 0 from a sample size: 10000 \n",
      "\n",
      "\n",
      "Comparisons to make for this class: 200.0 million\n",
      "\n",
      "The number of matches found in class 0 is 0\n",
      "Comparisons to make for this class: 200.0 million\n",
      "\n",
      "The number of matches found in class 1 is 0\n",
      "Comparisons to make for this class: 200.0 million\n",
      "\n",
      "The number of matches found in class 2 is 0\n",
      "Comparisons to make for this class: 200.0 million\n",
      "\n",
      "The number of matches found in class 3 is 0\n",
      "Comparisons to make for this class: 200.0 million\n",
      "\n",
      "The number of matches found in class 4 is 0\n",
      "Comparisons to make for this class: 200.0 million\n",
      "\n",
      "The number of matches found in class 5 is 0\n",
      "Comparisons to make for this class: 200.0 million\n",
      "\n",
      "The number of matches found in class 6 is 0\n",
      "Comparisons to make for this class: 200.0 million\n",
      "\n",
      "The number of matches found in class 7 is 0\n",
      "Comparisons to make for this class: 200.0 million\n",
      "\n",
      "The number of matches found in class 8 is 0\n",
      "Comparisons to make for this class: 200.0 million\n",
      "\n",
      "The number of matches found in class 9 is 0\n",
      "Total of matches: 0 from a sample size: 200000 \n",
      "\n",
      "\n"
     ]
    }
   ],
   "source": [
    "def are_equal(img1, img2):\n",
    "    row = img1.shape[0] / 2\n",
    "    if np.array_equal(img1[row, :], img2[row, :]):\n",
    "        return np.array_equal(img1, img2)\n",
    "    else:\n",
    "        return False\n",
    "\n",
    "def find_duplicates(labels1, dataset1, labels2=None, dataset2=None):\n",
    "    classes = np.unique(labels1)\n",
    "    duplicate_index = []\n",
    "    try:\n",
    "        if not labels2:\n",
    "            for _class in classes:\n",
    "                num_duplicates = 0\n",
    "                index = np.where(labels1 == _class)[0]\n",
    "                combinations = list(it.combinations(range(len(index)), 2))\n",
    "                print(\"Comparisons to make for this class:\", len(combinations) / float(1000000), \"million\")\n",
    "                for i,j in combinations:\n",
    "                    img1 = dataset1[i]\n",
    "                    img2 = dataset1[j]\n",
    "                    if are_equal(img1, img2) == True:\n",
    "                        duplicate_index.append((i ,j))\n",
    "                        num_duplicates += 1\n",
    "                print(\"The number of matches found in class %d is %d\" %(_class, num_duplicates))\n",
    "            print(\"Total of matches: %d from a sample size: %d \" %(len(duplicate_index), len(labels1)))\n",
    "    \n",
    "    except:\n",
    "        for _class in classes:\n",
    "            num_duplicates = 0\n",
    "            index1 = np.where(labels1 == _class)[0]\n",
    "            index2 = np.where(labels2 == _class)[0]\n",
    "            print(\"Comparisons to make for this class:\", len(index1) * len(index1) / float(1000000) / 2 , \"million\\n\")\n",
    "            for i in index1:\n",
    "                for j in index2:\n",
    "                    if j >= i:\n",
    "                        img1 = dataset1[i]\n",
    "                        img2 = dataset2[j]\n",
    "                        if are_equal(img1, img2) == True:\n",
    "                            duplicate_index.append((i ,j))\n",
    "                            num_duplicates += 1\n",
    "            print(\"The number of matches found in class %d is %d\" %(_class, num_duplicates))\n",
    "        print(\"Total of matches: %d from a sample size: %d \\n\\n\" %(len(duplicate_index), len(labels1)))\n",
    "    return duplicate_index\n",
    "         \n",
    "duplicate_index_valid = find_duplicates(valid_labels, valid_dataset)\n",
    "duplicate_index_test = find_duplicates(test_labels, test_dataset)\n",
    "duplicate_index_train = find_duplicates(train_labels, train_dataset)"
   ]
  },
  {
   "cell_type": "code",
   "execution_count": 20,
   "metadata": {},
   "outputs": [],
   "source": [
    "# # view duplicated images\n",
    "# import random\n",
    "# def print_images(img1, img2):\n",
    "#     plt.imshow(np.hstack((img1, img2)), cmap = \"gray\")\n",
    "#     plt.axis(\"off\")\n",
    "#     plt.show()\n",
    "\n",
    "# index = random.choice(duplicate_index_train)\n",
    "# print(index)\n",
    "# print_images(test_dataset[index[0]], test_dataset[index[1]])\n",
    "# # matches seem to correspond to black images!!"
   ]
  },
  {
   "cell_type": "code",
   "execution_count": 21,
   "metadata": {},
   "outputs": [
    {
     "name": "stdout",
     "output_type": "stream",
     "text": [
      "[100, 223, 356, 382, 542, 694, 784, 843, 983, 1100, 1161, 1228, 1298, 1466, 1537, 1570, 1814, 1878, 2006, 2030, 2120, 2147, 2159, 2323, 2350, 2467, 2507, 2543, 2591, 2768, 2836, 2992, 3478, 3667, 3835, 3852, 4053, 4348, 4349, 4508, 4611, 4717, 4801, 4929, 5054, 5469, 5656, 5701, 5812, 5960, 5961, 6068, 6088, 6199, 6253, 6295, 6471, 6487, 6819, 7075, 7095, 7181, 7203, 7429, 7463, 7531, 7947, 7968, 8212, 8256, 8307, 8468, 8477, 8497, 8562, 8632, 8637, 8690, 8721, 8726, 8814, 8825, 8860, 8951, 8958, 8981, 9134, 9260, 9382, 9466, 9511, 9741, 9988]\n"
     ]
    }
   ],
   "source": [
    "def remove_solid_color_images(dataset):\n",
    "    rem_index = []\n",
    "    for i in range(dataset.shape[0]):\n",
    "        if len(np.unique(dataset[i])) == 1:\n",
    "            rem_index.append(i)\n",
    "    return rem_index\n",
    "    \n",
    "rem_index_valid = remove_solid_color_images(valid_dataset)\n",
    "print(rem_index_valid)\n",
    "# plt.figure()\n",
    "# plt.imshow(valid_dataset[rem_index_valid[1]]) \n",
    "valid_labels = np.delete(valid_labels, rem_index_valid, 0)\n",
    "valid_dataset = np.delete(valid_dataset, rem_index_valid, 0)\n",
    "\n",
    "rem_index_test = remove_solid_color_images(test_dataset)\n",
    "# print(rem_index_test)\n",
    "test_labels = np.delete(test_labels, rem_index_test, 0)\n",
    "test_dataset = np.delete(test_dataset, rem_index_test, 0)\n",
    "\n",
    "rem_index_train = remove_solid_color_images(train_dataset)\n",
    "# print(rem_index_train)\n",
    "\n",
    "train_labels = np.delete(train_labels, rem_index_train, 0)\n",
    "train_dataset = np.delete(train_dataset, rem_index_train, 0)"
   ]
  },
  {
   "cell_type": "code",
   "execution_count": 22,
   "metadata": {},
   "outputs": [],
   "source": [
    "def remove_solid_color_images(dataset):\n",
    "    rem_index = []\n",
    "    for i in range(dataset.shape[0]):\n",
    "        if len(np.unique(dataset[i])) == 1:\n",
    "            rem_index.append(i)\n",
    "    return rem_index\n",
    "    \n",
    "rem_index_valid = remove_solid_color_images(valid_dataset)\n",
    "valid_labels = np.delete(valid_labels, rem_index_valid, 0)\n",
    "valid_dataset = np.delete(valid_dataset, rem_index_valid, 0)\n",
    "\n",
    "rem_index_test = remove_solid_color_images(test_dataset)\n",
    "test_labels = np.delete(test_labels, rem_index_test, 0)\n",
    "test_dataset = np.delete(test_dataset, rem_index_test, 0)\n",
    "\n",
    "rem_index_train = remove_solid_color_images(train_dataset)\n",
    "train_labels = np.delete(train_labels, rem_index_train, 0)\n",
    "train_dataset = np.delete(train_dataset, rem_index_train, 0)"
   ]
  },
  {
   "cell_type": "code",
   "execution_count": null,
   "metadata": {},
   "outputs": [],
   "source": []
  },
  {
   "cell_type": "code",
   "execution_count": null,
   "metadata": {},
   "outputs": [],
   "source": []
  },
  {
   "cell_type": "code",
   "execution_count": null,
   "metadata": {},
   "outputs": [],
   "source": []
  },
  {
   "cell_type": "code",
   "execution_count": null,
   "metadata": {},
   "outputs": [],
   "source": []
  },
  {
   "cell_type": "code",
   "execution_count": null,
   "metadata": {},
   "outputs": [],
   "source": []
  },
  {
   "cell_type": "markdown",
   "metadata": {
    "colab_type": "text",
    "id": "L8oww1s4JMQx"
   },
   "source": [
    "---\n",
    "Problem 6\n",
    "---------\n",
    "\n",
    "Let's get an idea of what an off-the-shelf classifier can give you on this data. It's always good to check that there is something to learn, and that it's a problem that is not so trivial that a canned solution solves it.\n",
    "\n",
    "Train a simple model on this data using 50, 100, 1000 and 5000 training samples. Hint: you can use the LogisticRegression model from sklearn.linear_model.\n",
    "\n",
    "Optional question: train an off-the-shelf model on all the data!\n",
    "\n",
    "---"
   ]
  },
  {
   "cell_type": "code",
   "execution_count": 23,
   "metadata": {},
   "outputs": [
    {
     "name": "stdout",
     "output_type": "stream",
     "text": [
      "Examples in train dataset: 200.0 thousand\n",
      "Examples in valid dataset: 10.0 thousand\n",
      "Examples in test dataset: 10.0 thousand\n"
     ]
    }
   ],
   "source": [
    "dic_file = pickle.load(open(pickle_file, 'rb'))\n",
    "train_dataset = dic_file[\"train_dataset\"]\n",
    "train_labels = dic_file[\"train_labels\"]\n",
    "valid_dataset = dic_file[\"valid_dataset\"]\n",
    "valid_labels = dic_file[\"valid_labels\"]\n",
    "test_dataset = dic_file[\"test_dataset\"]\n",
    "test_labels = dic_file[\"test_labels\"]\n",
    "\n",
    "print(\"Examples in train dataset:\", len(train_labels) / float(1000), \"thousand\")\n",
    "print(\"Examples in valid dataset:\", len(valid_labels) / float(1000), \"thousand\")\n",
    "print(\"Examples in test dataset:\", len(test_labels) / float(1000), \"thousand\")"
   ]
  },
  {
   "cell_type": "code",
   "execution_count": 24,
   "metadata": {},
   "outputs": [],
   "source": [
    "\n",
    "def train_and_validate(num_examples):\n",
    "    # flatten datasets\n",
    "    flat_train = [x.flatten() for x in train_dataset[:num_examples]]\n",
    "    flat_valid = [x.flatten() for x in valid_dataset[:num_examples]]\n",
    "#     print(train_labels[:num_examples]) # Check if labels are really shuffled\n",
    "    model = LogisticRegressionCV().fit(flat_train, train_labels[:num_examples])\n",
    "    score = cross_val_score(model, flat_valid, valid_labels[:num_examples]).mean()\n",
    "    return score"
   ]
  },
  {
   "cell_type": "code",
   "execution_count": 25,
   "metadata": {},
   "outputs": [
    {
     "name": "stdout",
     "output_type": "stream",
     "text": [
      "Cross Validation Score\n",
      "\n"
     ]
    },
    {
     "name": "stderr",
     "output_type": "stream",
     "text": [
      "C:\\ProgramData\\Anaconda3\\lib\\site-packages\\sklearn\\model_selection\\_split.py:605: Warning: The least populated class in y has only 2 members, which is too few. The minimum number of members in any class cannot be less than n_splits=3.\n",
      "  % (min_groups, self.n_splits)), Warning)\n",
      "C:\\ProgramData\\Anaconda3\\lib\\site-packages\\sklearn\\model_selection\\_split.py:605: Warning: The least populated class in y has only 1 members, which is too few. The minimum number of members in any class cannot be less than n_splits=3.\n",
      "  % (min_groups, self.n_splits)), Warning)\n",
      "C:\\ProgramData\\Anaconda3\\lib\\site-packages\\sklearn\\model_selection\\_split.py:605: Warning: The least populated class in y has only 1 members, which is too few. The minimum number of members in any class cannot be less than n_splits=3.\n",
      "  % (min_groups, self.n_splits)), Warning)\n",
      "C:\\ProgramData\\Anaconda3\\lib\\site-packages\\sklearn\\model_selection\\_split.py:605: Warning: The least populated class in y has only 2 members, which is too few. The minimum number of members in any class cannot be less than n_splits=3.\n",
      "  % (min_groups, self.n_splits)), Warning)\n"
     ]
    },
    {
     "name": "stdout",
     "output_type": "stream",
     "text": [
      "Wall time: 4.44 s\n",
      "Samples: 50 ---> Score: 0.5486510393631137\n",
      "Wall time: 5.01 s\n",
      "Samples: 100 ---> Score: 0.6120809614168247\n",
      "Wall time: 19.1 s\n",
      "Samples: 1000 ---> Score: 0.7489003633581947\n",
      "Wall time: 4min 31s\n",
      "Samples: 5000 ---> Score: 0.8073988456506509\n"
     ]
    }
   ],
   "source": [
    "training_sizes = [50, 100, 1000, 5000]\n",
    "print(\"Cross Validation Score\\n\")\n",
    "for size in training_sizes:\n",
    "    %time score = train_and_validate(size)\n",
    "    print(\"Samples:\", size,\"---> Score:\", score)"
   ]
  },
  {
   "cell_type": "code",
   "execution_count": null,
   "metadata": {},
   "outputs": [],
   "source": []
  }
 ],
 "metadata": {
  "colab": {
   "default_view": {},
   "name": "1_notmnist.ipynb",
   "provenance": [],
   "version": "0.3.2",
   "views": {}
  },
  "kernelspec": {
   "display_name": "Python 3",
   "language": "python",
   "name": "python3"
  },
  "language_info": {
   "codemirror_mode": {
    "name": "ipython",
    "version": 3
   },
   "file_extension": ".py",
   "mimetype": "text/x-python",
   "name": "python",
   "nbconvert_exporter": "python",
   "pygments_lexer": "ipython3",
   "version": "3.6.5"
  }
 },
 "nbformat": 4,
 "nbformat_minor": 1
}
